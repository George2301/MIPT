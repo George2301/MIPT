{
 "cells": [
  {
   "cell_type": "code",
   "execution_count": 42,
   "metadata": {},
   "outputs": [],
   "source": [
    "import pandas as pd\n",
    "import numpy as np\n",
    "import matplotlib.pyplot as plt"
   ]
  },
  {
   "cell_type": "code",
   "execution_count": 5,
   "metadata": {},
   "outputs": [],
   "source": [
    "lectures = pd.read_csv('lectures.csv')\n",
    "questions = pd.read_csv('questions.csv')"
   ]
  },
  {
   "cell_type": "code",
   "execution_count": 26,
   "metadata": {},
   "outputs": [],
   "source": [
    "train = pd.read_csv('train.csv')"
   ]
  },
  {
   "cell_type": "markdown",
   "metadata": {},
   "source": [
    "# Lectures"
   ]
  },
  {
   "cell_type": "code",
   "execution_count": 50,
   "metadata": {},
   "outputs": [
    {
     "name": "stdout",
     "output_type": "stream",
     "text": [
      "<class 'pandas.core.frame.DataFrame'>\n",
      "RangeIndex: 418 entries, 0 to 417\n",
      "Data columns (total 4 columns):\n",
      " #   Column      Non-Null Count  Dtype \n",
      "---  ------      --------------  ----- \n",
      " 0   lecture_id  418 non-null    int64 \n",
      " 1   tag         418 non-null    int64 \n",
      " 2   part        418 non-null    int64 \n",
      " 3   type_of     418 non-null    object\n",
      "dtypes: int64(3), object(1)\n",
      "memory usage: 13.2+ KB\n"
     ]
    }
   ],
   "source": [
    "lectures.info()"
   ]
  },
  {
   "cell_type": "code",
   "execution_count": 69,
   "metadata": {},
   "outputs": [
    {
     "data": {
      "text/plain": [
       "418"
      ]
     },
     "execution_count": 69,
     "metadata": {},
     "output_type": "execute_result"
    }
   ],
   "source": [
    "lectures.lecture_id.nunique()"
   ]
  },
  {
   "cell_type": "markdown",
   "metadata": {},
   "source": [
    "We have 418 unique lectures"
   ]
  },
  {
   "cell_type": "code",
   "execution_count": 51,
   "metadata": {},
   "outputs": [
    {
     "data": {
      "text/html": [
       "<div>\n",
       "<style scoped>\n",
       "    .dataframe tbody tr th:only-of-type {\n",
       "        vertical-align: middle;\n",
       "    }\n",
       "\n",
       "    .dataframe tbody tr th {\n",
       "        vertical-align: top;\n",
       "    }\n",
       "\n",
       "    .dataframe thead th {\n",
       "        text-align: right;\n",
       "    }\n",
       "</style>\n",
       "<table border=\"1\" class=\"dataframe\">\n",
       "  <thead>\n",
       "    <tr style=\"text-align: right;\">\n",
       "      <th></th>\n",
       "      <th>lecture_id</th>\n",
       "      <th>tag</th>\n",
       "      <th>part</th>\n",
       "    </tr>\n",
       "  </thead>\n",
       "  <tbody>\n",
       "    <tr>\n",
       "      <th>count</th>\n",
       "      <td>418.000000</td>\n",
       "      <td>418.000000</td>\n",
       "      <td>418.000000</td>\n",
       "    </tr>\n",
       "    <tr>\n",
       "      <th>mean</th>\n",
       "      <td>16983.401914</td>\n",
       "      <td>94.480861</td>\n",
       "      <td>4.267943</td>\n",
       "    </tr>\n",
       "    <tr>\n",
       "      <th>std</th>\n",
       "      <td>9426.164660</td>\n",
       "      <td>53.586487</td>\n",
       "      <td>1.872424</td>\n",
       "    </tr>\n",
       "    <tr>\n",
       "      <th>min</th>\n",
       "      <td>89.000000</td>\n",
       "      <td>0.000000</td>\n",
       "      <td>1.000000</td>\n",
       "    </tr>\n",
       "    <tr>\n",
       "      <th>25%</th>\n",
       "      <td>9026.250000</td>\n",
       "      <td>50.250000</td>\n",
       "      <td>2.000000</td>\n",
       "    </tr>\n",
       "    <tr>\n",
       "      <th>50%</th>\n",
       "      <td>17161.500000</td>\n",
       "      <td>94.500000</td>\n",
       "      <td>5.000000</td>\n",
       "    </tr>\n",
       "    <tr>\n",
       "      <th>75%</th>\n",
       "      <td>24906.250000</td>\n",
       "      <td>140.000000</td>\n",
       "      <td>6.000000</td>\n",
       "    </tr>\n",
       "    <tr>\n",
       "      <th>max</th>\n",
       "      <td>32736.000000</td>\n",
       "      <td>187.000000</td>\n",
       "      <td>7.000000</td>\n",
       "    </tr>\n",
       "  </tbody>\n",
       "</table>\n",
       "</div>"
      ],
      "text/plain": [
       "         lecture_id         tag        part\n",
       "count    418.000000  418.000000  418.000000\n",
       "mean   16983.401914   94.480861    4.267943\n",
       "std     9426.164660   53.586487    1.872424\n",
       "min       89.000000    0.000000    1.000000\n",
       "25%     9026.250000   50.250000    2.000000\n",
       "50%    17161.500000   94.500000    5.000000\n",
       "75%    24906.250000  140.000000    6.000000\n",
       "max    32736.000000  187.000000    7.000000"
      ]
     },
     "execution_count": 51,
     "metadata": {},
     "output_type": "execute_result"
    }
   ],
   "source": [
    "lectures.describe()"
   ]
  },
  {
   "cell_type": "code",
   "execution_count": 57,
   "metadata": {},
   "outputs": [
    {
     "data": {
      "text/html": [
       "<div>\n",
       "<style scoped>\n",
       "    .dataframe tbody tr th:only-of-type {\n",
       "        vertical-align: middle;\n",
       "    }\n",
       "\n",
       "    .dataframe tbody tr th {\n",
       "        vertical-align: top;\n",
       "    }\n",
       "\n",
       "    .dataframe thead th {\n",
       "        text-align: right;\n",
       "    }\n",
       "</style>\n",
       "<table border=\"1\" class=\"dataframe\">\n",
       "  <thead>\n",
       "    <tr style=\"text-align: right;\">\n",
       "      <th></th>\n",
       "      <th>lecture_id</th>\n",
       "      <th>tag</th>\n",
       "      <th>part</th>\n",
       "      <th>type_of</th>\n",
       "    </tr>\n",
       "  </thead>\n",
       "  <tbody>\n",
       "    <tr>\n",
       "      <th>0</th>\n",
       "      <td>89</td>\n",
       "      <td>159</td>\n",
       "      <td>5</td>\n",
       "      <td>concept</td>\n",
       "    </tr>\n",
       "    <tr>\n",
       "      <th>1</th>\n",
       "      <td>100</td>\n",
       "      <td>70</td>\n",
       "      <td>1</td>\n",
       "      <td>concept</td>\n",
       "    </tr>\n",
       "    <tr>\n",
       "      <th>2</th>\n",
       "      <td>185</td>\n",
       "      <td>45</td>\n",
       "      <td>6</td>\n",
       "      <td>concept</td>\n",
       "    </tr>\n",
       "    <tr>\n",
       "      <th>3</th>\n",
       "      <td>192</td>\n",
       "      <td>79</td>\n",
       "      <td>5</td>\n",
       "      <td>solving question</td>\n",
       "    </tr>\n",
       "    <tr>\n",
       "      <th>4</th>\n",
       "      <td>317</td>\n",
       "      <td>156</td>\n",
       "      <td>5</td>\n",
       "      <td>solving question</td>\n",
       "    </tr>\n",
       "    <tr>\n",
       "      <th>5</th>\n",
       "      <td>335</td>\n",
       "      <td>114</td>\n",
       "      <td>2</td>\n",
       "      <td>concept</td>\n",
       "    </tr>\n",
       "    <tr>\n",
       "      <th>6</th>\n",
       "      <td>484</td>\n",
       "      <td>179</td>\n",
       "      <td>5</td>\n",
       "      <td>concept</td>\n",
       "    </tr>\n",
       "    <tr>\n",
       "      <th>7</th>\n",
       "      <td>641</td>\n",
       "      <td>134</td>\n",
       "      <td>6</td>\n",
       "      <td>solving question</td>\n",
       "    </tr>\n",
       "    <tr>\n",
       "      <th>8</th>\n",
       "      <td>761</td>\n",
       "      <td>93</td>\n",
       "      <td>1</td>\n",
       "      <td>concept</td>\n",
       "    </tr>\n",
       "    <tr>\n",
       "      <th>9</th>\n",
       "      <td>814</td>\n",
       "      <td>80</td>\n",
       "      <td>5</td>\n",
       "      <td>solving question</td>\n",
       "    </tr>\n",
       "  </tbody>\n",
       "</table>\n",
       "</div>"
      ],
      "text/plain": [
       "   lecture_id  tag  part           type_of\n",
       "0          89  159     5           concept\n",
       "1         100   70     1           concept\n",
       "2         185   45     6           concept\n",
       "3         192   79     5  solving question\n",
       "4         317  156     5  solving question\n",
       "5         335  114     2           concept\n",
       "6         484  179     5           concept\n",
       "7         641  134     6  solving question\n",
       "8         761   93     1           concept\n",
       "9         814   80     5  solving question"
      ]
     },
     "execution_count": 57,
     "metadata": {},
     "output_type": "execute_result"
    }
   ],
   "source": [
    "lectures.head(10)"
   ]
  },
  {
   "cell_type": "code",
   "execution_count": 60,
   "metadata": {},
   "outputs": [
    {
     "name": "stdout",
     "output_type": "stream",
     "text": [
      "lecture_id    0\n",
      "tag           0\n",
      "part          0\n",
      "type_of       0\n",
      "dtype: int64\n"
     ]
    }
   ],
   "source": [
    "# Missing values\n",
    "print(lectures.isnull().sum())"
   ]
  },
  {
   "cell_type": "code",
   "execution_count": 67,
   "metadata": {},
   "outputs": [
    {
     "data": {
      "image/png": "[encoded data removed]",
      "text/plain": [
       "<Figure size 864x432 with 1 Axes>"
      ]
     },
     "metadata": {
      "needs_background": "light"
     },
     "output_type": "display_data"
    }
   ],
   "source": [
    "lect_type_of = lectures.type_of.value_counts()\n",
    "\n",
    "fig = plt.figure(figsize=(12,6))\n",
    "plt.bar(lect_type_of.index, lect_type_of.values)\n",
    "for i, v in zip(lect_type_of.index, lect_type_of.values):\n",
    "    plt.text(i, v, v, color='black', fontweight='bold', fontsize=14, va='bottom', ha='center')\n",
    "plt.title(\"Lecture types\")\n",
    "plt.xlabel(\"Type\")\n",
    "plt.ylabel(\"Count lectures\")\n",
    "plt.xticks(rotation=0)\n",
    "plt.show()"
   ]
  },
  {
   "cell_type": "markdown",
   "metadata": {},
   "source": [
    "The biggest part of lectures are \"concepts\" and \"solving questions\""
   ]
  },
  {
   "cell_type": "markdown",
   "metadata": {},
   "source": [
    "# Questions"
   ]
  },
  {
   "cell_type": "code",
   "execution_count": 54,
   "metadata": {},
   "outputs": [
    {
     "name": "stdout",
     "output_type": "stream",
     "text": [
      "<class 'pandas.core.frame.DataFrame'>\n",
      "RangeIndex: 13523 entries, 0 to 13522\n",
      "Data columns (total 5 columns):\n",
      " #   Column          Non-Null Count  Dtype \n",
      "---  ------          --------------  ----- \n",
      " 0   question_id     13523 non-null  int64 \n",
      " 1   bundle_id       13523 non-null  int64 \n",
      " 2   correct_answer  13523 non-null  int64 \n",
      " 3   part            13523 non-null  int64 \n",
      " 4   tags            13522 non-null  object\n",
      "dtypes: int64(4), object(1)\n",
      "memory usage: 528.4+ KB\n"
     ]
    }
   ],
   "source": [
    "questions.info()"
   ]
  },
  {
   "cell_type": "code",
   "execution_count": 70,
   "metadata": {},
   "outputs": [
    {
     "data": {
      "text/plain": [
       "13523"
      ]
     },
     "execution_count": 70,
     "metadata": {},
     "output_type": "execute_result"
    }
   ],
   "source": [
    "questions.question_id.nunique()"
   ]
  },
  {
   "cell_type": "markdown",
   "metadata": {},
   "source": [
    "We have 13523 unique questions"
   ]
  },
  {
   "cell_type": "code",
   "execution_count": 55,
   "metadata": {},
   "outputs": [
    {
     "data": {
      "text/html": [
       "<div>\n",
       "<style scoped>\n",
       "    .dataframe tbody tr th:only-of-type {\n",
       "        vertical-align: middle;\n",
       "    }\n",
       "\n",
       "    .dataframe tbody tr th {\n",
       "        vertical-align: top;\n",
       "    }\n",
       "\n",
       "    .dataframe thead th {\n",
       "        text-align: right;\n",
       "    }\n",
       "</style>\n",
       "<table border=\"1\" class=\"dataframe\">\n",
       "  <thead>\n",
       "    <tr style=\"text-align: right;\">\n",
       "      <th></th>\n",
       "      <th>question_id</th>\n",
       "      <th>bundle_id</th>\n",
       "      <th>correct_answer</th>\n",
       "      <th>part</th>\n",
       "    </tr>\n",
       "  </thead>\n",
       "  <tbody>\n",
       "    <tr>\n",
       "      <th>count</th>\n",
       "      <td>13523.00000</td>\n",
       "      <td>13523.000000</td>\n",
       "      <td>13523.000000</td>\n",
       "      <td>13523.000000</td>\n",
       "    </tr>\n",
       "    <tr>\n",
       "      <th>mean</th>\n",
       "      <td>6761.00000</td>\n",
       "      <td>6760.510907</td>\n",
       "      <td>1.455298</td>\n",
       "      <td>4.264956</td>\n",
       "    </tr>\n",
       "    <tr>\n",
       "      <th>std</th>\n",
       "      <td>3903.89818</td>\n",
       "      <td>3903.857783</td>\n",
       "      <td>1.149707</td>\n",
       "      <td>1.652553</td>\n",
       "    </tr>\n",
       "    <tr>\n",
       "      <th>min</th>\n",
       "      <td>0.00000</td>\n",
       "      <td>0.000000</td>\n",
       "      <td>0.000000</td>\n",
       "      <td>1.000000</td>\n",
       "    </tr>\n",
       "    <tr>\n",
       "      <th>25%</th>\n",
       "      <td>3380.50000</td>\n",
       "      <td>3379.500000</td>\n",
       "      <td>0.000000</td>\n",
       "      <td>3.000000</td>\n",
       "    </tr>\n",
       "    <tr>\n",
       "      <th>50%</th>\n",
       "      <td>6761.00000</td>\n",
       "      <td>6761.000000</td>\n",
       "      <td>1.000000</td>\n",
       "      <td>5.000000</td>\n",
       "    </tr>\n",
       "    <tr>\n",
       "      <th>75%</th>\n",
       "      <td>10141.50000</td>\n",
       "      <td>10140.000000</td>\n",
       "      <td>3.000000</td>\n",
       "      <td>5.000000</td>\n",
       "    </tr>\n",
       "    <tr>\n",
       "      <th>max</th>\n",
       "      <td>13522.00000</td>\n",
       "      <td>13522.000000</td>\n",
       "      <td>3.000000</td>\n",
       "      <td>7.000000</td>\n",
       "    </tr>\n",
       "  </tbody>\n",
       "</table>\n",
       "</div>"
      ],
      "text/plain": [
       "       question_id     bundle_id  correct_answer          part\n",
       "count  13523.00000  13523.000000    13523.000000  13523.000000\n",
       "mean    6761.00000   6760.510907        1.455298      4.264956\n",
       "std     3903.89818   3903.857783        1.149707      1.652553\n",
       "min        0.00000      0.000000        0.000000      1.000000\n",
       "25%     3380.50000   3379.500000        0.000000      3.000000\n",
       "50%     6761.00000   6761.000000        1.000000      5.000000\n",
       "75%    10141.50000  10140.000000        3.000000      5.000000\n",
       "max    13522.00000  13522.000000        3.000000      7.000000"
      ]
     },
     "execution_count": 55,
     "metadata": {},
     "output_type": "execute_result"
    }
   ],
   "source": [
    "questions.describe()"
   ]
  },
  {
   "cell_type": "code",
   "execution_count": 56,
   "metadata": {},
   "outputs": [
    {
     "data": {
      "text/html": [
       "<div>\n",
       "<style scoped>\n",
       "    .dataframe tbody tr th:only-of-type {\n",
       "        vertical-align: middle;\n",
       "    }\n",
       "\n",
       "    .dataframe tbody tr th {\n",
       "        vertical-align: top;\n",
       "    }\n",
       "\n",
       "    .dataframe thead th {\n",
       "        text-align: right;\n",
       "    }\n",
       "</style>\n",
       "<table border=\"1\" class=\"dataframe\">\n",
       "  <thead>\n",
       "    <tr style=\"text-align: right;\">\n",
       "      <th></th>\n",
       "      <th>question_id</th>\n",
       "      <th>bundle_id</th>\n",
       "      <th>correct_answer</th>\n",
       "      <th>part</th>\n",
       "      <th>tags</th>\n",
       "    </tr>\n",
       "  </thead>\n",
       "  <tbody>\n",
       "    <tr>\n",
       "      <th>0</th>\n",
       "      <td>0</td>\n",
       "      <td>0</td>\n",
       "      <td>0</td>\n",
       "      <td>1</td>\n",
       "      <td>51 131 162 38</td>\n",
       "    </tr>\n",
       "    <tr>\n",
       "      <th>1</th>\n",
       "      <td>1</td>\n",
       "      <td>1</td>\n",
       "      <td>1</td>\n",
       "      <td>1</td>\n",
       "      <td>131 36 81</td>\n",
       "    </tr>\n",
       "    <tr>\n",
       "      <th>2</th>\n",
       "      <td>2</td>\n",
       "      <td>2</td>\n",
       "      <td>0</td>\n",
       "      <td>1</td>\n",
       "      <td>131 101 162 92</td>\n",
       "    </tr>\n",
       "    <tr>\n",
       "      <th>3</th>\n",
       "      <td>3</td>\n",
       "      <td>3</td>\n",
       "      <td>0</td>\n",
       "      <td>1</td>\n",
       "      <td>131 149 162 29</td>\n",
       "    </tr>\n",
       "    <tr>\n",
       "      <th>4</th>\n",
       "      <td>4</td>\n",
       "      <td>4</td>\n",
       "      <td>3</td>\n",
       "      <td>1</td>\n",
       "      <td>131 5 162 38</td>\n",
       "    </tr>\n",
       "    <tr>\n",
       "      <th>5</th>\n",
       "      <td>5</td>\n",
       "      <td>5</td>\n",
       "      <td>2</td>\n",
       "      <td>1</td>\n",
       "      <td>131 149 162 81</td>\n",
       "    </tr>\n",
       "    <tr>\n",
       "      <th>6</th>\n",
       "      <td>6</td>\n",
       "      <td>6</td>\n",
       "      <td>2</td>\n",
       "      <td>1</td>\n",
       "      <td>10 94 162 92</td>\n",
       "    </tr>\n",
       "    <tr>\n",
       "      <th>7</th>\n",
       "      <td>7</td>\n",
       "      <td>7</td>\n",
       "      <td>0</td>\n",
       "      <td>1</td>\n",
       "      <td>61 110 162 29</td>\n",
       "    </tr>\n",
       "    <tr>\n",
       "      <th>8</th>\n",
       "      <td>8</td>\n",
       "      <td>8</td>\n",
       "      <td>3</td>\n",
       "      <td>1</td>\n",
       "      <td>131 13 162 92</td>\n",
       "    </tr>\n",
       "    <tr>\n",
       "      <th>9</th>\n",
       "      <td>9</td>\n",
       "      <td>9</td>\n",
       "      <td>3</td>\n",
       "      <td>1</td>\n",
       "      <td>10 164 81</td>\n",
       "    </tr>\n",
       "  </tbody>\n",
       "</table>\n",
       "</div>"
      ],
      "text/plain": [
       "   question_id  bundle_id  correct_answer  part            tags\n",
       "0            0          0               0     1   51 131 162 38\n",
       "1            1          1               1     1       131 36 81\n",
       "2            2          2               0     1  131 101 162 92\n",
       "3            3          3               0     1  131 149 162 29\n",
       "4            4          4               3     1    131 5 162 38\n",
       "5            5          5               2     1  131 149 162 81\n",
       "6            6          6               2     1    10 94 162 92\n",
       "7            7          7               0     1   61 110 162 29\n",
       "8            8          8               3     1   131 13 162 92\n",
       "9            9          9               3     1       10 164 81"
      ]
     },
     "execution_count": 56,
     "metadata": {},
     "output_type": "execute_result"
    }
   ],
   "source": [
    "questions.head(10)"
   ]
  },
  {
   "cell_type": "code",
   "execution_count": 59,
   "metadata": {},
   "outputs": [
    {
     "name": "stdout",
     "output_type": "stream",
     "text": [
      "question_id       0\n",
      "bundle_id         0\n",
      "correct_answer    0\n",
      "part              0\n",
      "tags              1\n",
      "dtype: int64\n"
     ]
    }
   ],
   "source": [
    "# Missing values\n",
    "print(questions.isnull().sum())"
   ]
  },
  {
   "cell_type": "code",
   "execution_count": null,
   "metadata": {},
   "outputs": [],
   "source": []
  },
  {
   "cell_type": "markdown",
   "metadata": {},
   "source": [
    "# Train"
   ]
  },
  {
   "cell_type": "code",
   "execution_count": 29,
   "metadata": {},
   "outputs": [
    {
     "name": "stdout",
     "output_type": "stream",
     "text": [
      "<class 'pandas.core.frame.DataFrame'>\n",
      "RangeIndex: 101230332 entries, 0 to 101230331\n",
      "Data columns (total 10 columns):\n",
      " #   Column                          Dtype  \n",
      "---  ------                          -----  \n",
      " 0   row_id                          int64  \n",
      " 1   timestamp                       int64  \n",
      " 2   user_id                         int64  \n",
      " 3   content_id                      int64  \n",
      " 4   content_type_id                 int64  \n",
      " 5   task_container_id               int64  \n",
      " 6   user_answer                     int64  \n",
      " 7   answered_correctly              int64  \n",
      " 8   prior_question_elapsed_time     float64\n",
      " 9   prior_question_had_explanation  object \n",
      "dtypes: float64(1), int64(8), object(1)\n",
      "memory usage: 7.5+ GB\n"
     ]
    }
   ],
   "source": [
    "train.info()"
   ]
  },
  {
   "cell_type": "code",
   "execution_count": 48,
   "metadata": {
    "scrolled": true
   },
   "outputs": [
    {
     "data": {
      "text/html": [
       "<div>\n",
       "<style scoped>\n",
       "    .dataframe tbody tr th:only-of-type {\n",
       "        vertical-align: middle;\n",
       "    }\n",
       "\n",
       "    .dataframe tbody tr th {\n",
       "        vertical-align: top;\n",
       "    }\n",
       "\n",
       "    .dataframe thead th {\n",
       "        text-align: right;\n",
       "    }\n",
       "</style>\n",
       "<table border=\"1\" class=\"dataframe\">\n",
       "  <thead>\n",
       "    <tr style=\"text-align: right;\">\n",
       "      <th></th>\n",
       "      <th>row_id</th>\n",
       "      <th>timestamp</th>\n",
       "      <th>user_id</th>\n",
       "      <th>content_id</th>\n",
       "      <th>content_type_id</th>\n",
       "      <th>task_container_id</th>\n",
       "      <th>user_answer</th>\n",
       "      <th>answered_correctly</th>\n",
       "      <th>prior_question_elapsed_time</th>\n",
       "    </tr>\n",
       "  </thead>\n",
       "  <tbody>\n",
       "    <tr>\n",
       "      <th>count</th>\n",
       "      <td>1.012303e+08</td>\n",
       "      <td>1.012303e+08</td>\n",
       "      <td>1.012303e+08</td>\n",
       "      <td>1.012303e+08</td>\n",
       "      <td>1.012303e+08</td>\n",
       "      <td>1.012303e+08</td>\n",
       "      <td>1.012303e+08</td>\n",
       "      <td>1.012303e+08</td>\n",
       "      <td>9.887879e+07</td>\n",
       "    </tr>\n",
       "    <tr>\n",
       "      <th>mean</th>\n",
       "      <td>5.061517e+07</td>\n",
       "      <td>7.703644e+09</td>\n",
       "      <td>1.076732e+09</td>\n",
       "      <td>5.219605e+03</td>\n",
       "      <td>1.935222e-02</td>\n",
       "      <td>9.040624e+02</td>\n",
       "      <td>1.376123e+00</td>\n",
       "      <td>6.251644e-01</td>\n",
       "      <td>2.542381e+04</td>\n",
       "    </tr>\n",
       "    <tr>\n",
       "      <th>std</th>\n",
       "      <td>2.922268e+07</td>\n",
       "      <td>1.159266e+10</td>\n",
       "      <td>6.197163e+08</td>\n",
       "      <td>3.866359e+03</td>\n",
       "      <td>1.377596e-01</td>\n",
       "      <td>1.358302e+03</td>\n",
       "      <td>1.192896e+00</td>\n",
       "      <td>5.225307e-01</td>\n",
       "      <td>1.994815e+04</td>\n",
       "    </tr>\n",
       "    <tr>\n",
       "      <th>min</th>\n",
       "      <td>0.000000e+00</td>\n",
       "      <td>0.000000e+00</td>\n",
       "      <td>1.150000e+02</td>\n",
       "      <td>0.000000e+00</td>\n",
       "      <td>0.000000e+00</td>\n",
       "      <td>0.000000e+00</td>\n",
       "      <td>-1.000000e+00</td>\n",
       "      <td>-1.000000e+00</td>\n",
       "      <td>0.000000e+00</td>\n",
       "    </tr>\n",
       "    <tr>\n",
       "      <th>25%</th>\n",
       "      <td>2.530758e+07</td>\n",
       "      <td>5.243436e+08</td>\n",
       "      <td>5.408116e+08</td>\n",
       "      <td>2.063000e+03</td>\n",
       "      <td>0.000000e+00</td>\n",
       "      <td>1.040000e+02</td>\n",
       "      <td>0.000000e+00</td>\n",
       "      <td>0.000000e+00</td>\n",
       "      <td>1.600000e+04</td>\n",
       "    </tr>\n",
       "    <tr>\n",
       "      <th>50%</th>\n",
       "      <td>5.061517e+07</td>\n",
       "      <td>2.674234e+09</td>\n",
       "      <td>1.071781e+09</td>\n",
       "      <td>5.026000e+03</td>\n",
       "      <td>0.000000e+00</td>\n",
       "      <td>3.820000e+02</td>\n",
       "      <td>1.000000e+00</td>\n",
       "      <td>1.000000e+00</td>\n",
       "      <td>2.100000e+04</td>\n",
       "    </tr>\n",
       "    <tr>\n",
       "      <th>75%</th>\n",
       "      <td>7.592275e+07</td>\n",
       "      <td>9.924551e+09</td>\n",
       "      <td>1.615742e+09</td>\n",
       "      <td>7.425000e+03</td>\n",
       "      <td>0.000000e+00</td>\n",
       "      <td>1.094000e+03</td>\n",
       "      <td>3.000000e+00</td>\n",
       "      <td>1.000000e+00</td>\n",
       "      <td>2.966600e+04</td>\n",
       "    </tr>\n",
       "    <tr>\n",
       "      <th>max</th>\n",
       "      <td>1.012303e+08</td>\n",
       "      <td>8.742577e+10</td>\n",
       "      <td>2.147483e+09</td>\n",
       "      <td>3.273600e+04</td>\n",
       "      <td>1.000000e+00</td>\n",
       "      <td>9.999000e+03</td>\n",
       "      <td>3.000000e+00</td>\n",
       "      <td>1.000000e+00</td>\n",
       "      <td>3.000000e+05</td>\n",
       "    </tr>\n",
       "  </tbody>\n",
       "</table>\n",
       "</div>"
      ],
      "text/plain": [
       "             row_id     timestamp       user_id    content_id  \\\n",
       "count  1.012303e+08  1.012303e+08  1.012303e+08  1.012303e+08   \n",
       "mean   5.061517e+07  7.703644e+09  1.076732e+09  5.219605e+03   \n",
       "std    2.922268e+07  1.159266e+10  6.197163e+08  3.866359e+03   \n",
       "min    0.000000e+00  0.000000e+00  1.150000e+02  0.000000e+00   \n",
       "25%    2.530758e+07  5.243436e+08  5.408116e+08  2.063000e+03   \n",
       "50%    5.061517e+07  2.674234e+09  1.071781e+09  5.026000e+03   \n",
       "75%    7.592275e+07  9.924551e+09  1.615742e+09  7.425000e+03   \n",
       "max    1.012303e+08  8.742577e+10  2.147483e+09  3.273600e+04   \n",
       "\n",
       "       content_type_id  task_container_id   user_answer  answered_correctly  \\\n",
       "count     1.012303e+08       1.012303e+08  1.012303e+08        1.012303e+08   \n",
       "mean      1.935222e-02       9.040624e+02  1.376123e+00        6.251644e-01   \n",
       "std       1.377596e-01       1.358302e+03  1.192896e+00        5.225307e-01   \n",
       "min       0.000000e+00       0.000000e+00 -1.000000e+00       -1.000000e+00   \n",
       "25%       0.000000e+00       1.040000e+02  0.000000e+00        0.000000e+00   \n",
       "50%       0.000000e+00       3.820000e+02  1.000000e+00        1.000000e+00   \n",
       "75%       0.000000e+00       1.094000e+03  3.000000e+00        1.000000e+00   \n",
       "max       1.000000e+00       9.999000e+03  3.000000e+00        1.000000e+00   \n",
       "\n",
       "       prior_question_elapsed_time  \n",
       "count                 9.887879e+07  \n",
       "mean                  2.542381e+04  \n",
       "std                   1.994815e+04  \n",
       "min                   0.000000e+00  \n",
       "25%                   1.600000e+04  \n",
       "50%                   2.100000e+04  \n",
       "75%                   2.966600e+04  \n",
       "max                   3.000000e+05  "
      ]
     },
     "execution_count": 48,
     "metadata": {},
     "output_type": "execute_result"
    }
   ],
   "source": [
    "train.describe()"
   ]
  },
  {
   "cell_type": "code",
   "execution_count": 78,
   "metadata": {},
   "outputs": [
    {
     "data": {
      "text/html": [
       "<div>\n",
       "<style scoped>\n",
       "    .dataframe tbody tr th:only-of-type {\n",
       "        vertical-align: middle;\n",
       "    }\n",
       "\n",
       "    .dataframe tbody tr th {\n",
       "        vertical-align: top;\n",
       "    }\n",
       "\n",
       "    .dataframe thead th {\n",
       "        text-align: right;\n",
       "    }\n",
       "</style>\n",
       "<table border=\"1\" class=\"dataframe\">\n",
       "  <thead>\n",
       "    <tr style=\"text-align: right;\">\n",
       "      <th></th>\n",
       "      <th>row_id</th>\n",
       "      <th>timestamp</th>\n",
       "      <th>user_id</th>\n",
       "      <th>content_id</th>\n",
       "      <th>content_type_id</th>\n",
       "      <th>task_container_id</th>\n",
       "      <th>user_answer</th>\n",
       "      <th>answered_correctly</th>\n",
       "      <th>prior_question_elapsed_time</th>\n",
       "      <th>prior_question_had_explanation</th>\n",
       "    </tr>\n",
       "  </thead>\n",
       "  <tbody>\n",
       "    <tr>\n",
       "      <th>0</th>\n",
       "      <td>0</td>\n",
       "      <td>0</td>\n",
       "      <td>115</td>\n",
       "      <td>5692</td>\n",
       "      <td>0</td>\n",
       "      <td>1</td>\n",
       "      <td>3</td>\n",
       "      <td>1</td>\n",
       "      <td>NaN</td>\n",
       "      <td>NaN</td>\n",
       "    </tr>\n",
       "    <tr>\n",
       "      <th>1</th>\n",
       "      <td>1</td>\n",
       "      <td>56943</td>\n",
       "      <td>115</td>\n",
       "      <td>5716</td>\n",
       "      <td>0</td>\n",
       "      <td>2</td>\n",
       "      <td>2</td>\n",
       "      <td>1</td>\n",
       "      <td>37000.0</td>\n",
       "      <td>False</td>\n",
       "    </tr>\n",
       "    <tr>\n",
       "      <th>2</th>\n",
       "      <td>2</td>\n",
       "      <td>118363</td>\n",
       "      <td>115</td>\n",
       "      <td>128</td>\n",
       "      <td>0</td>\n",
       "      <td>0</td>\n",
       "      <td>0</td>\n",
       "      <td>1</td>\n",
       "      <td>55000.0</td>\n",
       "      <td>False</td>\n",
       "    </tr>\n",
       "    <tr>\n",
       "      <th>3</th>\n",
       "      <td>3</td>\n",
       "      <td>131167</td>\n",
       "      <td>115</td>\n",
       "      <td>7860</td>\n",
       "      <td>0</td>\n",
       "      <td>3</td>\n",
       "      <td>0</td>\n",
       "      <td>1</td>\n",
       "      <td>19000.0</td>\n",
       "      <td>False</td>\n",
       "    </tr>\n",
       "    <tr>\n",
       "      <th>4</th>\n",
       "      <td>4</td>\n",
       "      <td>137965</td>\n",
       "      <td>115</td>\n",
       "      <td>7922</td>\n",
       "      <td>0</td>\n",
       "      <td>4</td>\n",
       "      <td>1</td>\n",
       "      <td>1</td>\n",
       "      <td>11000.0</td>\n",
       "      <td>False</td>\n",
       "    </tr>\n",
       "    <tr>\n",
       "      <th>5</th>\n",
       "      <td>5</td>\n",
       "      <td>157063</td>\n",
       "      <td>115</td>\n",
       "      <td>156</td>\n",
       "      <td>0</td>\n",
       "      <td>5</td>\n",
       "      <td>2</td>\n",
       "      <td>1</td>\n",
       "      <td>5000.0</td>\n",
       "      <td>False</td>\n",
       "    </tr>\n",
       "    <tr>\n",
       "      <th>6</th>\n",
       "      <td>6</td>\n",
       "      <td>176092</td>\n",
       "      <td>115</td>\n",
       "      <td>51</td>\n",
       "      <td>0</td>\n",
       "      <td>6</td>\n",
       "      <td>0</td>\n",
       "      <td>1</td>\n",
       "      <td>17000.0</td>\n",
       "      <td>False</td>\n",
       "    </tr>\n",
       "    <tr>\n",
       "      <th>7</th>\n",
       "      <td>7</td>\n",
       "      <td>194190</td>\n",
       "      <td>115</td>\n",
       "      <td>50</td>\n",
       "      <td>0</td>\n",
       "      <td>7</td>\n",
       "      <td>3</td>\n",
       "      <td>1</td>\n",
       "      <td>17000.0</td>\n",
       "      <td>False</td>\n",
       "    </tr>\n",
       "    <tr>\n",
       "      <th>8</th>\n",
       "      <td>8</td>\n",
       "      <td>212463</td>\n",
       "      <td>115</td>\n",
       "      <td>7896</td>\n",
       "      <td>0</td>\n",
       "      <td>8</td>\n",
       "      <td>2</td>\n",
       "      <td>1</td>\n",
       "      <td>16000.0</td>\n",
       "      <td>False</td>\n",
       "    </tr>\n",
       "    <tr>\n",
       "      <th>9</th>\n",
       "      <td>9</td>\n",
       "      <td>230983</td>\n",
       "      <td>115</td>\n",
       "      <td>7863</td>\n",
       "      <td>0</td>\n",
       "      <td>9</td>\n",
       "      <td>0</td>\n",
       "      <td>1</td>\n",
       "      <td>16000.0</td>\n",
       "      <td>False</td>\n",
       "    </tr>\n",
       "  </tbody>\n",
       "</table>\n",
       "</div>"
      ],
      "text/plain": [
       "   row_id  timestamp  user_id  content_id  content_type_id  task_container_id  \\\n",
       "0       0          0      115        5692                0                  1   \n",
       "1       1      56943      115        5716                0                  2   \n",
       "2       2     118363      115         128                0                  0   \n",
       "3       3     131167      115        7860                0                  3   \n",
       "4       4     137965      115        7922                0                  4   \n",
       "5       5     157063      115         156                0                  5   \n",
       "6       6     176092      115          51                0                  6   \n",
       "7       7     194190      115          50                0                  7   \n",
       "8       8     212463      115        7896                0                  8   \n",
       "9       9     230983      115        7863                0                  9   \n",
       "\n",
       "   user_answer  answered_correctly  prior_question_elapsed_time  \\\n",
       "0            3                   1                          NaN   \n",
       "1            2                   1                      37000.0   \n",
       "2            0                   1                      55000.0   \n",
       "3            0                   1                      19000.0   \n",
       "4            1                   1                      11000.0   \n",
       "5            2                   1                       5000.0   \n",
       "6            0                   1                      17000.0   \n",
       "7            3                   1                      17000.0   \n",
       "8            2                   1                      16000.0   \n",
       "9            0                   1                      16000.0   \n",
       "\n",
       "  prior_question_had_explanation  \n",
       "0                            NaN  \n",
       "1                          False  \n",
       "2                          False  \n",
       "3                          False  \n",
       "4                          False  \n",
       "5                          False  \n",
       "6                          False  \n",
       "7                          False  \n",
       "8                          False  \n",
       "9                          False  "
      ]
     },
     "execution_count": 78,
     "metadata": {},
     "output_type": "execute_result"
    }
   ],
   "source": [
    "train.head(10)"
   ]
  },
  {
   "cell_type": "code",
   "execution_count": 61,
   "metadata": {},
   "outputs": [
    {
     "name": "stdout",
     "output_type": "stream",
     "text": [
      "row_id                                  0\n",
      "timestamp                               0\n",
      "user_id                                 0\n",
      "content_id                              0\n",
      "content_type_id                         0\n",
      "task_container_id                       0\n",
      "user_answer                             0\n",
      "answered_correctly                      0\n",
      "prior_question_elapsed_time       2351538\n",
      "prior_question_had_explanation     392506\n",
      "dtype: int64\n"
     ]
    }
   ],
   "source": [
    "# Missing values\n",
    "print(train.isnull().sum())"
   ]
  },
  {
   "cell_type": "code",
   "execution_count": 36,
   "metadata": {},
   "outputs": [
    {
     "data": {
      "text/plain": [
       "393656"
      ]
     },
     "execution_count": 36,
     "metadata": {},
     "output_type": "execute_result"
    }
   ],
   "source": [
    "# unique users\n",
    "train.user_id.nunique()"
   ]
  },
  {
   "cell_type": "code",
   "execution_count": 37,
   "metadata": {},
   "outputs": [
    {
     "data": {
      "text/plain": [
       "0    99271300\n",
       "1     1959032\n",
       "Name: content_type_id, dtype: int64"
      ]
     },
     "execution_count": 37,
     "metadata": {},
     "output_type": "execute_result"
    }
   ],
   "source": [
    "# 0 - question, 1 - lecture\n",
    "train.content_type_id.value_counts()"
   ]
  },
  {
   "cell_type": "code",
   "execution_count": 38,
   "metadata": {},
   "outputs": [
    {
     "data": {
      "text/plain": [
       "13782"
      ]
     },
     "execution_count": 38,
     "metadata": {},
     "output_type": "execute_result"
    }
   ],
   "source": [
    "# all content (questions + lectures)\n",
    "train.content_id.nunique()"
   ]
  },
  {
   "cell_type": "code",
   "execution_count": 39,
   "metadata": {},
   "outputs": [
    {
     "data": {
      "text/plain": [
       "13523"
      ]
     },
     "execution_count": 39,
     "metadata": {},
     "output_type": "execute_result"
    }
   ],
   "source": [
    "# all questions\n",
    "train[train.content_type_id == False].content_id.nunique()"
   ]
  },
  {
   "cell_type": "code",
   "execution_count": 62,
   "metadata": {},
   "outputs": [
    {
     "data": {
      "image/png": "[encoded data removed]",
      "text/plain": [
       "<Figure size 864x288 with 1 Axes>"
      ]
     },
     "metadata": {
      "needs_background": "light"
     },
     "output_type": "display_data"
    }
   ],
   "source": [
    "# correct answers\n",
    "correct = train[train.answered_correctly != -1].answered_correctly.value_counts(ascending=True)\n",
    "\n",
    "fig = plt.figure(figsize=(12,4))\n",
    "correct.plot.barh()\n",
    "for i, v in zip(correct.index, correct.values):\n",
    "    plt.text(v, i, '{:,}'.format(v), color='white', fontweight='bold', fontsize=14, ha='right', va='center')\n",
    "plt.title(\"Correct answers\")\n",
    "plt.xticks(rotation=0)\n",
    "plt.show()"
   ]
  },
  {
   "cell_type": "code",
   "execution_count": 63,
   "metadata": {},
   "outputs": [
    {
     "name": "stdout",
     "output_type": "stream",
     "text": [
      "False    244050\n",
      "True     149606\n",
      "Name: Watches_lecture, dtype: int64\n"
     ]
    },
    {
     "data": {
      "image/png": "[encoded data removed]",
      "text/plain": [
       "<Figure size 864x288 with 1 Axes>"
      ]
     },
     "metadata": {
      "needs_background": "light"
     },
     "output_type": "display_data"
    }
   ],
   "source": [
    "# answers depending on waching lectures\n",
    "\n",
    "user_lect = train.groupby([\"user_id\", \"answered_correctly\"]).size().unstack()\n",
    "user_lect.columns = ['Lecture', 'Wrong', 'Right']\n",
    "user_lect['Lecture'] = user_lect['Lecture'].fillna(0)\n",
    "user_lect = user_lect.astype('Int64')\n",
    "user_lect['Watches_lecture'] = np.where(user_lect.Lecture > 0, True, False)\n",
    "\n",
    "watches_l = user_lect.groupby(\"Watches_lecture\").agg({'Wrong': ['sum'], 'Right': ['sum']})\n",
    "print(user_lect.Watches_lecture.value_counts())\n",
    "\n",
    "watches_l['Percent_correct'] = watches_l.Right/(watches_l.Right + watches_l.Wrong)\n",
    "\n",
    "watches_l = watches_l.iloc[:,2]\n",
    "\n",
    "fig = plt.figure(figsize=(12,4))\n",
    "watches_l.plot.barh()\n",
    "for i, v in zip(watches_l.index, watches_l.values):\n",
    "    plt.text(v, i, round(v,2), color='white', fontweight='bold', fontsize=14, ha='right', va='center')\n",
    "\n",
    "plt.title(\"Waching lectures\")\n",
    "plt.xlabel(\"Percent correct\")\n",
    "plt.ylabel(\"User watched at least one lecture\")\n",
    "plt.xticks(rotation=0)\n",
    "plt.show()"
   ]
  },
  {
   "cell_type": "markdown",
   "metadata": {},
   "source": [
    "There is correlation between watching lectures and correct answers. If user watched at least one lecture, he is more likely to answer correctly. However the difference is not such big."
   ]
  }
 ],
 "metadata": {
  "kernelspec": {
   "display_name": "Python 3",
   "language": "python",
   "name": "python3"
  },
  "language_info": {
   "codemirror_mode": {
    "name": "ipython",
    "version": 3
   },
   "file_extension": ".py",
   "mimetype": "text/x-python",
   "name": "python",
   "nbconvert_exporter": "python",
   "pygments_lexer": "ipython3",
   "version": "3.8.5"
  }
 },
 "nbformat": 4,
 "nbformat_minor": 4
}
